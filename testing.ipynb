{
 "cells": [
  {
   "cell_type": "code",
   "execution_count": null,
   "metadata": {},
   "outputs": [],
   "source": [
    "\"\"\"\n",
    "this pipeline needs to be able to detect if a person is horizontal and if so is the persons head facing to the left or right vertically\n",
    "\n",
    "based on that observation we can make the decision which value we should choose for detecting the face\n",
    "\n",
    "1. input the image and then return in prompt if horizontal and if so if left or right facing\n",
    "\n",
    "2. extract result from prompt \n",
    "\n",
    "3. based on result return the value 0 or 90 or 270\n",
    "\"\"\""
   ]
  },
  {
   "cell_type": "code",
   "execution_count": null,
   "metadata": {},
   "outputs": [],
   "source": [
    "!pip install litellm python-dotenv opencv-python"
   ]
  },
  {
   "cell_type": "code",
   "execution_count": 31,
   "metadata": {},
   "outputs": [],
   "source": [
    "import os\n",
    "import cv2\n",
    "from litellm import completion\n",
    "import base64\n",
    "from dotenv import load_dotenv\n",
    "import json\n",
    "\n",
    "load_dotenv()\n",
    "\n",
    "os.environ[\"OPENAI_API_KEY\"] = os.getenv(\"OPENAI_API_KEY\")"
   ]
  },
  {
   "cell_type": "code",
   "execution_count": 110,
   "metadata": {},
   "outputs": [],
   "source": [
    "#define image path\n",
    "image_path = \"examples/4.jpeg\""
   ]
  },
  {
   "cell_type": "code",
   "execution_count": 111,
   "metadata": {},
   "outputs": [
    {
     "data": {
      "image/jpeg": "[encoded data removed]",
      "text/plain": [
       "<IPython.core.display.Image object>"
      ]
     },
     "metadata": {},
     "output_type": "display_data"
    }
   ],
   "source": [
    "from IPython.display import Image, display\n",
    "\n",
    "# Display the image\n",
    "display(Image(image_path))"
   ]
  },
  {
   "cell_type": "code",
   "execution_count": 112,
   "metadata": {},
   "outputs": [],
   "source": [
    "def get_alignment_of_faces(vision_frame) -> str:\n",
    "\t#!only temporarly for testing in prod the vision frame will be no path\n",
    "\tvision_frame = cv2.imread(vision_frame)\n",
    "\n",
    "\t# Convert frame to PNG in memory and encode to base64\n",
    "\t_, buffer = cv2.imencode('.png', vision_frame)\n",
    "\tbase64_image = base64.b64encode(buffer).decode('utf-8')\n",
    "\n",
    "\tprompt=\"\"\"\n",
    "\tYou are analyzing an image of a person lying horizontally. Your task is to determine the rotation angle:\n",
    "\n",
    "\t- Classify as 90 DEGREES if: The person is lying with their head to the RIGHT side of the image (meaning the top/crown of their head points right)\n",
    "\t- Classify as 270 DEGREES if: The person is lying with their head to the LEFT side of the image (meaning the top/crown of their head points left)\n",
    "\t- Classify as 0 DEGREES if: The person is not lying horizontally or you cannot clearly determine orientation\n",
    "\n",
    "\tImportant: Focus strictly on which direction the TOP of the head is pointing, not where the face is looking. Imagine the head as an arrow - the pointed end (top/crown of head) determines the direction.\n",
    "\n",
    "\tFor reference:\n",
    "\t- In 90° rotation, the top of the head points RIGHT when viewed from above\n",
    "\t- In 270° rotation, the top of the head points LEFT when viewed from above\n",
    "\n",
    "\tProvide your classification and a brief explanation.\n",
    "\t\"\"\"\n",
    "\n",
    "\t# Make API call to vision model\n",
    "\tresponse = completion(\n",
    "\t\tmodel=\"gpt-4o-mini\",\n",
    "\t\tmessages=[\n",
    "\t\t\t{\n",
    "\t\t\t\t\"role\": \"user\",\n",
    "\t\t\t\t\"content\": [\n",
    "\t\t\t\t\t{\n",
    "\t\t\t\t\t\t\"type\": \"text\",\n",
    "\t\t\t\t\t\t\"text\": prompt\n",
    "\t\t\t\t\t},\n",
    "\t\t\t\t\t{\n",
    "\t\t\t\t\t\t\"type\": \"image_url\",\n",
    "\t\t\t\t\t\t\"image_url\": {\n",
    "\t\t\t\t\t\t\t\"url\": f\"data:image/jpeg;base64,{base64_image}\"\n",
    "\t\t\t\t\t\t}\n",
    "\t\t\t\t\t}\n",
    "\t\t\t\t]\n",
    "\t\t\t}\n",
    "\t\t],\n",
    "\t)\n",
    "\treturn response.choices[0].message.content"
   ]
  },
  {
   "cell_type": "code",
   "execution_count": null,
   "metadata": {},
   "outputs": [],
   "source": []
  },
  {
   "cell_type": "code",
   "execution_count": 113,
   "metadata": {},
   "outputs": [],
   "source": [
    "value=get_alignment_of_faces(image_path)"
   ]
  },
  {
   "cell_type": "code",
   "execution_count": 114,
   "metadata": {},
   "outputs": [
    {
     "name": "stdout",
     "output_type": "stream",
     "text": [
      "Based on the criteria provided, I classify the orientation as **270 DEGREES**. \n",
      "\n",
      "The reasoning is that the top or crown of the person's head is pointing to the left side of the image when viewed from above. This aligns with the definition for a 270-degree classification.\n"
     ]
    }
   ],
   "source": [
    "print(value)"
   ]
  },
  {
   "cell_type": "code",
   "execution_count": 115,
   "metadata": {},
   "outputs": [],
   "source": [
    "#extract the result from the response\n",
    "def extract_result(response: str) -> str:\n",
    "\t\"\"\"\n",
    "\tthis function should extract horizontal left - 90 or right - 270 or nothing - 0\n",
    "\t\"\"\"\n",
    "\tprompt = f\"\"\"\n",
    "\tYou are processing the output from an image orientation detection system. Extract ONLY the orientation value based on these rules:\n",
    "\t- If the detection result indicates a person lying horizontally with head oriented LEFT: return 90\n",
    "\t- If the detection result indicates a person lying horizontally with head oriented RIGHT: return 270\n",
    "\t- For any other case (vertical orientation, unclear result, no person detected, or ambiguous response etc.): return 0\n",
    "\n",
    "\tHere is the detection result to analyze:\n",
    "\n",
    "\t{response}\n",
    "\n",
    "\tRespond with ONLY a JSON object containing a single key \"value\" with value 90, 270, or 0.\n",
    "\t\"\"\"\n",
    "\tresponse = completion(\n",
    "    \tmodel = \"gpt-4o\", \n",
    "\t\tresponse_format={ \"type\": \"json_object\" },\n",
    "    \tmessages=[{ \"content\": prompt,\"role\": \"user\"}],\n",
    "\t\ttemperature=0.0\n",
    "\t)\n",
    "\tresponse_json = json.loads(response.choices[0].message.content)\n",
    "\t#how to make sure that the model really only responds with one value ie 90 or 270 or 0?\n",
    "\treturn response_json[\"value\"]"
   ]
  },
  {
   "cell_type": "code",
   "execution_count": 116,
   "metadata": {},
   "outputs": [],
   "source": [
    "final_value=extract_result(value)"
   ]
  },
  {
   "cell_type": "code",
   "execution_count": 117,
   "metadata": {},
   "outputs": [
    {
     "name": "stdout",
     "output_type": "stream",
     "text": [
      "0\n"
     ]
    }
   ],
   "source": [
    "print(final_value)"
   ]
  },
  {
   "cell_type": "code",
   "execution_count": null,
   "metadata": {},
   "outputs": [],
   "source": []
  },
  {
   "cell_type": "code",
   "execution_count": null,
   "metadata": {},
   "outputs": [],
   "source": []
  },
  {
   "cell_type": "code",
   "execution_count": null,
   "metadata": {},
   "outputs": [],
   "source": []
  }
 ],
 "metadata": {
  "kernelspec": {
   "display_name": "base",
   "language": "python",
   "name": "python3"
  },
  "language_info": {
   "codemirror_mode": {
    "name": "ipython",
    "version": 3
   },
   "file_extension": ".py",
   "mimetype": "text/x-python",
   "name": "python",
   "nbconvert_exporter": "python",
   "pygments_lexer": "ipython3",
   "version": "3.11.10"
  }
 },
 "nbformat": 4,
 "nbformat_minor": 2
}
