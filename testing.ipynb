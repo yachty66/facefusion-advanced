{
 "cells": [
  {
   "cell_type": "code",
   "execution_count": null,
   "metadata": {},
   "outputs": [],
   "source": [
    "import os\n",
    "import cv2\n",
    "from litellm import completion\n",
    "import base64\n",
    "from dotenv import load_dotenv\n",
    "\n",
    "load_dotenv()\n",
    "\n",
    "# Convert frame to PNG in memory and encode to base64\n",
    "_, buffer = cv2.imencode('.png', vision_frame)\n",
    "base64_image = base64.b64encode(buffer).decode('utf-8')\n",
    "\n",
    "os.environ[\"OPENAI_API_KEY\"] = os.getenv(\"OPENAI_API_KEY\")\n",
    "\n",
    "# Make API call to vision model\n",
    "response = completion(\n",
    "    model=\"gpt-4o-mini\",\n",
    "    messages=[\n",
    "        {\n",
    "            \"role\": \"user\",\n",
    "            \"content\": [\n",
    "                {\n",
    "                    \"type\": \"text\",\n",
    "                    \"text\": \"Is the person (or persons) in that image vertically or horizontally aligned? Respond only with the value; if vertical or horizontal is not appropriate or it's not clear, respond with 0 but remember nothing else.\"\n",
    "                },\n",
    "                {\n",
    "                    \"type\": \"image_url\",\n",
    "                    \"image_url\": {\n",
    "                        \"url\": f\"data:image/jpeg;base64,{base64_image}\"\n",
    "                    }\n",
    "                }\n",
    "            ]\n",
    "        }\n",
    "    ],\n",
    ")\n",
    "#i need to make sure that the response which comes back here says either horizontal or vertical\n",
    "#in the case of \n",
    "print(response)"
   ]
  },
  {
   "cell_type": "code",
   "execution_count": 17,
   "metadata": {},
   "outputs": [
    {
     "name": "stdout",
     "output_type": "stream",
     "text": [
      "Image dimensions: (438, 701, 3)\n",
      "Response: ModelResponse(id='chatcmpl-B4stMkEXpRSgnOt91Xsvqv8aUvi7N', created=1740504016, model='gpt-4o-mini-2024-07-18', object='chat.completion', system_fingerprint='fp_7fcd609668', choices=[Choices(finish_reason='stop', index=0, message=Message(content='90', role='assistant', tool_calls=None, function_call=None))], usage=Usage(completion_tokens=2, prompt_tokens=643, total_tokens=645, completion_tokens_details=CompletionTokensDetailsWrapper(accepted_prediction_tokens=0, audio_tokens=0, reasoning_tokens=0, rejected_prediction_tokens=0, text_tokens=None), prompt_tokens_details=PromptTokensDetailsWrapper(audio_tokens=0, cached_tokens=0, text_tokens=None, image_tokens=None)), service_tier='default')\n",
      "90\n"
     ]
    }
   ],
   "source": [
    "import os\n",
    "import cv2\n",
    "from litellm import completion\n",
    "import base64\n",
    "from dotenv import load_dotenv\n",
    "\n",
    "load_dotenv()\n",
    "\n",
    "# Read the local image\n",
    "image_path = 'target.png'  # make sure this file exists in your current directory\n",
    "vision_frame = cv2.imread(image_path)\n",
    "\n",
    "if vision_frame is None:\n",
    "    raise ValueError(f\"Could not read image at {image_path}. Make sure the file exists and is a valid image.\")\n",
    "\n",
    "# Optional: Display image dimensions to verify it was loaded correctly\n",
    "print(f\"Image dimensions: {vision_frame.shape}\")\n",
    "\n",
    "# Convert frame to PNG in memory and encode to base64\n",
    "_, buffer = cv2.imencode('.png', vision_frame)\n",
    "base64_image = base64.b64encode(buffer).decode('utf-8')\n",
    "\n",
    "os.environ[\"OPENAI_API_KEY\"] = os.getenv(\"OPENAI_API_KEY\")\n",
    "\n",
    "# Make API call to vision model\n",
    "response = completion(\n",
    "    model=\"gpt-4o-mini\",\n",
    "    temperature=0,\n",
    "    messages=[\n",
    "        {\n",
    "            \"role\": \"user\",\n",
    "            \"content\": [\n",
    "                {\n",
    "                    \"type\": \"text\",\n",
    "                    \"text\": \"Is the person (or persons) in that image vertically or horizontally aligned? Respond only with the value; if vertical respond with 90 and if horizontal respond with 0. If vertical or horizontal is not appropriate or it's not clear, respond with 'False' but remember nothing else.\"\n",
    "                },\n",
    "                {\n",
    "                    \"type\": \"image_url\",\n",
    "                    \"image_url\": {\n",
    "                        \"url\": f\"data:image/jpeg;base64,{base64_image}\"\n",
    "                    }\n",
    "                }\n",
    "            ]\n",
    "        }\n",
    "    ],\n",
    ")\n",
    "\n",
    "print(\"Response:\", response)\n",
    "\n",
    "res=response.choices[0].message.content.strip()\n",
    "print(res)"
   ]
  },
  {
   "cell_type": "code",
   "execution_count": 18,
   "metadata": {},
   "outputs": [
    {
     "name": "stdout",
     "output_type": "stream",
     "text": [
      "vertical\n"
     ]
    }
   ],
   "source": [
    "if res == 90:\n",
    "    print(\"horizontal\")\n",
    "else:\n",
    "    print(\"vertical\")\n"
   ]
  },
  {
   "cell_type": "code",
   "execution_count": null,
   "metadata": {},
   "outputs": [],
   "source": []
  }
 ],
 "metadata": {
  "kernelspec": {
   "display_name": "base",
   "language": "python",
   "name": "python3"
  },
  "language_info": {
   "codemirror_mode": {
    "name": "ipython",
    "version": 3
   },
   "file_extension": ".py",
   "mimetype": "text/x-python",
   "name": "python",
   "nbconvert_exporter": "python",
   "pygments_lexer": "ipython3",
   "version": "3.11.10"
  }
 },
 "nbformat": 4,
 "nbformat_minor": 2
}
